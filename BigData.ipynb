{
  "nbformat": 4,
  "nbformat_minor": 0,
  "metadata": {
    "colab": {
      "provenance": [],
      "mount_file_id": "https://github.com/kbdev20/bigdata/blob/main/BigData.ipynb",
      "authorship_tag": "ABX9TyOkbNuTtoXqiOac/EbnQybf",
      "include_colab_link": true
    },
    "kernelspec": {
      "name": "python3",
      "display_name": "Python 3"
    },
    "language_info": {
      "name": "python"
    }
  },
  "cells": [
    {
      "cell_type": "markdown",
      "metadata": {
        "id": "view-in-github",
        "colab_type": "text"
      },
      "source": [
        "<a href=\"https://colab.research.google.com/github/revregi/BIRDMA/blob/master/BigData.ipynb\" target=\"_parent\"><img src=\"https://colab.research.google.com/assets/colab-badge.svg\" alt=\"Open In Colab\"/></a>"
      ]
    },
    {
      "cell_type": "code",
      "execution_count": null,
      "metadata": {
        "id": "E56VX6T-Y0Q9"
      },
      "outputs": [],
      "source": [
        "## Do some code here\n",
        "# data: /content/drive/MyDrive/BigData/stop_times.txt"
      ]
    }
  ]
}